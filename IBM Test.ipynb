{
 "cells": [
  {
   "cell_type": "markdown",
   "id": "d754b8ff",
   "metadata": {},
   "source": [
    "## Test notebook"
   ]
  },
  {
   "cell_type": "markdown",
   "id": "e3e0d855",
   "metadata": {},
   "source": [
    "This is a test for the IBM certification course on Data Science"
   ]
  },
  {
   "cell_type": "markdown",
   "id": "99ce6366",
   "metadata": {},
   "source": [
    "Data Science Languages:\n",
    "- Python\n",
    "- Java\n",
    "- C++\n",
    "- R\n",
    "- Julia"
   ]
  },
  {
   "cell_type": "markdown",
   "id": "d1340d52",
   "metadata": {},
   "source": [
    "|ID||Tool Name|\n",
    "|--||---------|\n",
    "|0||Jupyter Notebook|\n",
    "|1||R Studio|\n",
    "|2||Spark Apache|\n",
    "|3||VS Code|\n",
    "|4||Jupyter Lab|"
   ]
  },
  {
   "cell_type": "markdown",
   "id": "81ff5922",
   "metadata": {},
   "source": [
    "#Arithmetic examples:\n",
    "\n",
    "5*2 = 10\n",
    "5^2 = 25\n",
    "x = 25\n",
    "y = 30\n",
    "x * y = 750"
   ]
  },
  {
   "cell_type": "code",
   "execution_count": 1,
   "id": "cad64c7d",
   "metadata": {},
   "outputs": [
    {
     "name": "stdout",
     "output_type": "stream",
     "text": [
      "50\n"
     ]
    }
   ],
   "source": [
    "x = 5\n",
    "y = 10\n",
    "print(x*y)"
   ]
  },
  {
   "cell_type": "code",
   "execution_count": 2,
   "id": "ad5bec39",
   "metadata": {},
   "outputs": [
    {
     "name": "stdout",
     "output_type": "stream",
     "text": [
      "1.3333333333333333\n"
     ]
    }
   ],
   "source": [
    "# Minutes to hours\n",
    "\n",
    "# Minutes\n",
    "x = 80\n",
    "\n",
    "hours = x / 60\n",
    "print(hours)"
   ]
  },
  {
   "cell_type": "markdown",
   "id": "416b7e51",
   "metadata": {},
   "source": [
    "# Objectives:\n",
    "\n",
    "- Learn Data Science\n",
    "- Understand how and when to use Data Science tools\n",
    "- Learn the available tools for Data Science\n",
    "- Learn how to create a version of code"
   ]
  },
  {
   "cell_type": "markdown",
   "id": "2ca3c5f3",
   "metadata": {},
   "source": [
    "# Authors Name: Luis Felipe Soares de Carvalho"
   ]
  }
 ],
 "metadata": {
  "kernelspec": {
   "display_name": "Python 3 (ipykernel)",
   "language": "python",
   "name": "python3"
  },
  "language_info": {
   "codemirror_mode": {
    "name": "ipython",
    "version": 3
   },
   "file_extension": ".py",
   "mimetype": "text/x-python",
   "name": "python",
   "nbconvert_exporter": "python",
   "pygments_lexer": "ipython3",
   "version": "3.9.13"
  }
 },
 "nbformat": 4,
 "nbformat_minor": 5
}
